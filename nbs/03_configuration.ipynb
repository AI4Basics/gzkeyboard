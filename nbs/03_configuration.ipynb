{
 "cells": [
  {
   "cell_type": "markdown",
   "metadata": {},
   "source": [
    "# Configuration Management\n",
    "\n",
    "> User-configurable settings, custom mappings, and preferences for the GzKeyboard"
   ]
  },
  {
   "cell_type": "code",
   "execution_count": null,
   "metadata": {},
   "outputs": [],
   "source": [
    "#| default_exp config"
   ]
  },
  {
   "cell_type": "code",
   "execution_count": null,
   "metadata": {},
   "outputs": [],
   "source": [
    "#| hide\n",
    "from nbdev.showdoc import *\n",
    "from fastcore.test import *"
   ]
  },
  {
   "cell_type": "code",
   "execution_count": null,
   "metadata": {},
   "outputs": [],
   "source": [
    "#| export\n",
    "from typing import Dict, List, Optional, Any, Union\n",
    "from dataclasses import dataclass, asdict, field\n",
    "from pathlib import Path\n",
    "import json\n",
    "import os\n",
    "from datetime import datetime\n",
    "\n",
    "from gzkeyboard.core import CharacterStore, CharacterFamily\n",
    "from gzkeyboard.composition import CompositionStrategy\n",
    "from gzkeyboard.system import InputMode"
   ]
  },
  {
   "cell_type": "code",
   "execution_count": null,
   "metadata": {},
   "outputs": [],
   "source": [
    "#| export\n",
    "@dataclass\n",
    "class CustomMapping:\n",
    "    \"\"\"Represents a custom character or word mapping.\"\"\"\n",
    "    input_sequence: str\n",
    "    output: str\n",
    "    priority: int = 0\n",
    "    description: str = \"\"\n",
    "    enabled: bool = True"
   ]
  },
  {
   "cell_type": "code",
   "execution_count": null,
   "metadata": {},
   "outputs": [],
   "source": [
    "# Test custom mapping\n",
    "mapping = CustomMapping(\"hello\", \"ሰላም\", priority=10)\n",
    "print(f\"✓ Custom mapping test: {mapping.input_sequence} → {mapping.output}\")"
   ]
  },
  {
   "cell_type": "code",
   "execution_count": null,
   "metadata": {},
   "outputs": [],
   "source": [
    "#| hide\n",
    "import nbdev; nbdev.nbdev_export()"
   ]
  }
 ],
 "metadata": {
  "kernelspec": {
   "display_name": "python3",
   "language": "python",
   "name": "python3"
  }
 },
 "nbformat": 4,
 "nbformat_minor": 4
}