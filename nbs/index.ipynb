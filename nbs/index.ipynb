{
 "cells": [
  {
   "cell_type": "code",
   "execution_count": null,
   "metadata": {},
   "outputs": [],
   "source": [
    "#| hide\n",
    "\n",
    "# Fix the import path first\n",
    "import sys, os\n",
    "project_root = os.path.abspath(os.path.join(os.path.dirname('__file__'), '..'))\n",
    "if project_root not in sys.path:\n",
    "    sys.path.insert(0, project_root)\n",
    "    print(f\"Added {project_root} to Python path\")\n",
    "from nbdev.showdoc import *\n",
    "from gzkeyboard.gzkeyboard import *\n"
   ]
  },
  {
   "cell_type": "markdown",
   "metadata": {},
   "source": [
    "# Gzkeyboard\n",
    "\n",
    "> A keyboard for typing in Ge'ez alphabets (Tigrinya and Amharic)"
   ]
  },
  {
   "cell_type": "markdown",
   "metadata": {},
   "source": [
    "## Overview\n",
    "\n",
    "Gzkeyboard enables typing in Tigrinya and Amharic using standard QWERTY keyboards. It converts Latin character combinations into the corresponding Ge'ez characters, making it easy to type in these languages without specialized keyboard layouts."
   ]
  },
  {
   "cell_type": "markdown",
   "metadata": {},
   "source": [
    "## Features\n",
    "\n",
    "The improved implementation includes:\n",
    "\n",
    "- **Multiple input modes**: Support for Tigrinya, Amharic, and Latin modes\n",
    "- **Efficient keystroke processing**: Optimized algorithms for key combination matching\n",
    "- **Configurable timeouts**: Adjustable timeouts that adapt to user typing speed\n",
    "- **Visual feedback**: Real-time indicators showing what's being typed\n",
    "- **Customizable mappings**: Support for custom character mappings\n",
    "- **Hotkey support**: Configurable keyboard shortcuts for controlling the input method\n",
    "- **Autocorrection**: Basic support for correcting common typing mistakes\n",
    "- **Modern code organization**: Modular design for easier maintenance and extension"
   ]
  },
  {
   "cell_type": "markdown",
   "metadata": {},
   "source": [
    "## Installation\n",
    "\n",
    "Install latest from the GitHub [repository][repo]:\n",
    "\n",
    "```sh\n",
    "$ pip install git+https://github.com/AI4Basics/gzkeyboard.git\n",
    "```\n",
    "\n",
    "or from [conda][conda]\n",
    "\n",
    "```sh\n",
    "$ conda install -c AI4Basics gzkeyboard\n",
    "```\n",
    "\n",
    "or from [pypi][pypi]\n",
    "\n",
    "```sh\n",
    "$ pip install gzkeyboard\n",
    "```\n",
    "\n",
    "[repo]: https://github.com/AI4Basics/gzkeyboard\n",
    "[docs]: https://AI4Basics.github.io/gzkeyboard/\n",
    "[pypi]: https://pypi.org/project/gzkeyboard/\n",
    "[conda]: https://anaconda.org/AI4Basics/gzkeyboard"
   ]
  },
  {
   "cell_type": "markdown",
   "metadata": {},
   "source": [
    "## Developer Guide\n",
    "\n",
    "If you are new to using `nbdev` here are some useful pointers to get you started.\n",
    "\n",
    "### Install gzkeyboard in Development mode\n",
    "\n",
    "```sh\n",
    "# make sure gzkeyboard package is installed in development mode\n",
    "$ pip install -e .\n",
    "\n",
    "# make changes under nbs/ directory\n",
    "# ...\n",
    "\n",
    "# compile to have changes apply to gzkeyboard\n",
    "$ nbdev_prepare\n",
    "```"
   ]
  },
  {
   "cell_type": "markdown",
   "metadata": {},
   "source": [
    "## Usage\n",
    "\n",
    "### Basic Usage\n",
    "\n",
    "#### Original Implementation\n",
    "\n",
    "To use the original Geez keyboard implementation:"
   ]
  },
  {
   "cell_type": "code",
   "execution_count": null,
   "metadata": {},
   "outputs": [],
   "source": [
    "# Create the input handler\n",
    "handler = SystemInputHandler()\n",
    "\n",
    "# In a real application, we would set up the keyboard hook\n",
    "# handler.setup_keyboard_hook()"
   ]
  },
  {
   "cell_type": "markdown",
   "metadata": {},
   "source": [
    "#### Improved Implementation\n",
    "\n",
    "To use the improved Geez keyboard implementation:"
   ]
  },
  {
   "cell_type": "code",
   "execution_count": null,
   "metadata": {},
   "outputs": [],
   "source": [
    "# Create and start the app\n",
    "\n",
    "\n",
    "# In a real application, we would start and stop the app\n",
    "# app.start()\n",
    "# ...\n",
    "# app.stop()"
   ]
  },
  {
   "cell_type": "markdown",
   "metadata": {},
   "source": [
    "### Command Line Usage\n",
    "\n",
    "You can also start the improved keyboard from the command line:\n",
    "\n",
    "```bash\n",
    "python -m gzkeyboard.improved_gzkeyboard --mode tigrinya\n",
    "```\n",
    "\n",
    "Available options:\n",
    "- `--mode`: Choose input mode (tigrinya, amharic, or latin)\n",
    "- `--config`: Specify path to a custom configuration file"
   ]
  },
  {
   "cell_type": "markdown",
   "metadata": {},
   "source": [
    "### Default Hotkeys\n",
    "\n",
    "The improved implementation includes the following hotkeys:\n",
    "\n",
    "- `Ctrl+Space`: Toggle input method on/off\n",
    "- `Alt+T`: Switch to Tigrinya mode\n",
    "- `Alt+A`: Switch to Amharic mode\n",
    "- `Alt+L`: Switch to Latin mode\n",
    "- `Escape`: Cancel current buffer"
   ]
  },
  {
   "cell_type": "markdown",
   "metadata": {},
   "source": [
    "### Typing Examples\n",
    "\n",
    "Here are some examples of character combinations:\n",
    "\n",
    "| Latin Input | Ge'ez Output | Description |\n",
    "|-------------|--------------|-------------|\n",
    "| ha          | ሃ            | 'h' family, 4th order |\n",
    "| he          | ሄ            | 'h' family, 5th order |\n",
    "| se          | ሴ            | 's' family, 5th order |\n",
    "| ma          | ማ            | 'm' family, 4th order |\n",
    "| shengo      | ሸንጎ          | Multiple characters |"
   ]
  },
  {
   "cell_type": "markdown",
   "metadata": {},
   "source": [
    "## Configuration\n",
    "\n",
    "You can customize the improved keyboard behavior by creating a configuration file:"
   ]
  },
  {
   "cell_type": "code",
   "execution_count": null,
   "metadata": {},
   "outputs": [],
   "source": [
    "# Create a custom configuration\n",
    "config = KeyboardConfig(\n",
    "    default_mode=InputMode.TIGRINYA\n",
    ")\n",
    "\n",
    "# In a real application, we would save the configuration\n",
    "# config.save_to_file(\"~/.config/gzkeyboard/config.json\")"
   ]
  },
  {
   "cell_type": "markdown",
   "metadata": {},
   "source": [
    "## Custom Mappings\n",
    "\n",
    "You can create custom character mappings:"
   ]
  },
  {
   "cell_type": "code",
   "execution_count": null,
   "metadata": {},
   "outputs": [],
   "source": [
    "# Create a custom mapping\n",
    "custom_mapping = {\n",
    "    'se': 'ሴ',\n",
    "    'ez': 'ዝ',\n",
    "    # Add your own custom mappings\n",
    "}\n",
    "\n",
    "# In a real application, we would save the mapping\n",
    "# KeyboardMappings.save_custom_mapping(\n",
    "#     custom_mapping, \n",
    "#     \"~/.config/gzkeyboard/custom_mappings.json\"\n",
    "# )"
   ]
  },
  {
   "cell_type": "markdown",
   "metadata": {},
   "source": [
    "## Documentation\n",
    "\n",
    "Documentation can be found hosted on this GitHub [repository][repo]'s [pages][docs]. Additionally you can find package manager specific guidelines on [conda][conda] and [pypi][pypi] respectively.\n",
    "\n",
    "[repo]: https://github.com/AI4Basics/gzkeyboard\n",
    "[docs]: https://AI4Basics.github.io/gzkeyboard/\n",
    "[pypi]: https://pypi.org/project/gzkeyboard/\n",
    "[conda]: https://anaconda.org/AI4Basics/gzkeyboard"
   ]
  }
 ],
 "metadata": {
  "kernelspec": {
   "display_name": "Python 3 (ipykernel)",
   "language": "python",
   "name": "python3"
  }
 },
 "nbformat": 4,
 "nbformat_minor": 4
}
