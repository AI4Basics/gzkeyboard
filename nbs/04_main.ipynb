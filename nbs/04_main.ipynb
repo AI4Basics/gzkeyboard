{
 "cells": [
  {
   "cell_type": "markdown",
   "metadata": {},
   "source": [
    "# Main Application Entry Point\n",
    "\n",
    "> Main application integration and command-line interface for the new GzKeyboard system"
   ]
  },
  {
   "cell_type": "code",
   "execution_count": null,
   "metadata": {},
   "outputs": [],
   "source": [
    "#| default_exp main"
   ]
  },
  {
   "cell_type": "code",
   "execution_count": null,
   "metadata": {},
   "outputs": [],
   "source": "#| export\n__all__ = ['main']\n\nimport argparse\nimport sys\nimport time\nfrom pathlib import Path\n\nfrom .core import CharacterStore\nfrom .composition import SyllableComposer, CompositionStrategy, test_composition_interactive\nfrom .system import SystemInputHandler, InputMode"
  },
  {
   "cell_type": "code",
   "execution_count": null,
   "metadata": {},
   "outputs": [],
   "source": "#| export\ndef main():\n    \"\"\"Main command-line entry point.\"\"\"\n    parser = argparse.ArgumentParser(\n        description=\"GzKeyboard v2.0 - Advanced Geez keyboard for Tigrinya and Amharic\"\n    )\n    \n    parser.add_argument(\n        \"--mode\", \n        choices=[\"tigrinya\", \"amharic\", \"latin\"],\n        default=\"tigrinya\",\n        help=\"Input mode (default: tigrinya)\"\n    )\n    \n    parser.add_argument(\n        \"--test\",\n        action=\"store_true\",\n        help=\"Run interactive composition tests\"\n    )\n    \n    args = parser.parse_args()\n    \n    if args.test:\n        print(\"🧪 GzKeyboard Interactive Tests\")\n        \n        # Create test setup\n        character_store = CharacterStore()\n        composer = SyllableComposer(character_store, strategy=CompositionStrategy.ADAPTIVE)\n        \n        # Test common words\n        test_words = ['hello', 'selam', 'geez']\n        \n        for word in test_words:\n            output = test_composition_interactive(composer, word, show_details=False)\n            print(f\"   '{word}' → '{output}'\")\n        \n        print(\"\\\\n✅ Tests completed!\")\n        return\n    \n    # Start the actual keyboard system\n    print(f\"🎹 Starting GzKeyboard v2.0 in {args.mode} mode...\")\n    \n    try:\n        # Create input mode enum\n        input_mode = InputMode(args.mode.upper())\n        \n        # Create system handler with basic config\n        from .system import KeyboardConfig\n        config = KeyboardConfig(\n            default_mode=input_mode,\n            debug_mode=False\n        )\n        \n        handler = SystemInputHandler(config)\n        \n        # Try to setup keyboard hooks\n        success = handler.setup_keyboard_hook()\n        \n        if success:\n            print(f\"✅ Keyboard hooks active in {args.mode} mode\")\n            print(f\"⌨️  Hotkeys:\")\n            print(f\"   {config.toggle_hotkey}: Toggle on/off\")\n            print(f\"   {config.tigrinya_hotkey}: Tigrinya mode\")\n            print(f\"   {config.amharic_hotkey}: Amharic mode\")\n            print(f\"   {config.latin_hotkey}: Latin mode\")\n            print(f\"\\\\n✨ Start typing! Press Ctrl+C to exit.\")\n            \n            # Keep running\n            try:\n                while True:\n                    time.sleep(0.1)\n            except KeyboardInterrupt:\n                print(\"\\\\n👋 GzKeyboard stopped. Goodbye!\")\n                handler.cleanup()\n        else:\n            print(\"❌ Failed to start keyboard hooks.\")\n            print(\"💡 Try running with --test to verify the composition engine works\")\n    \n    except Exception as e:\n        print(f\"❌ Error: {e}\")\n        print(\"💡 Try running with --test to test the composition engine\")"
  },
  {
   "cell_type": "code",
   "execution_count": null,
   "metadata": {},
   "outputs": [],
   "source": [
    "#| hide\n",
    "import nbdev; nbdev.nbdev_export()"
   ]
  }
 ],
 "metadata": {
  "kernelspec": {
   "display_name": "python3",
   "language": "python",
   "name": "python3"
  }
 },
 "nbformat": 4,
 "nbformat_minor": 4
}